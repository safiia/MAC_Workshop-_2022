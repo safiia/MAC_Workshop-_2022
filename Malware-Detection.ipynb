{
 "cells": [
  {
   "cell_type": "code",
   "execution_count": 3,
   "metadata": {},
   "outputs": [],
   "source": [
    "import numpy as np\n",
    "#import matplotlib.pyplot as plt\n",
    "import pandas as pd\n",
    "\n",
    "# Importing the dataset\n",
    "dataset = pd.read_csv('MDdata.csv', sep = '|')\n",
    "X = dataset.drop(['Name', 'md5', 'legitimate'], axis = 1).values\n",
    "y = dataset['legitimate'].values\n",
    "\n",
    "# Splitting the dataset into the Training set and Test set\n",
    "from sklearn.model_selection import train_test_split\n",
    "X_train, X_test, y_train, y_test = train_test_split(X, y, test_size = 0.20, random_state = 0)\n",
    "\n",
    "# Feature Scaling\n",
    "from sklearn.preprocessing import StandardScaler\n",
    "sc = StandardScaler()\n",
    "X_train = sc.fit_transform(X_train)\n",
    "X_test = sc.transform(X_test)\n",
    "\n",
    "#Fitting xgboost to the training Set\n",
    "#This done by using gradient boosted trees algorithm\n",
    "#s an ensemble method, meaning it’s a way of combining predictions from several models into one\n",
    "\n",
    "from xgboost import XGBClassifier\n",
    "classifier = XGBClassifier(max_depth=20, learning_rate=0.3, n_estimators=150, eval_metric='logloss',use_label_encoder=False)\n",
    "classifier.fit(X_train, y_train)\n",
    "\n",
    "#predict the test results\n",
    "y_pred = classifier.predict(X_test)\n",
    "\n",
    "#Makeing the confusion matrix\n",
    "from sklearn.metrics import confusion_matrix\n",
    "cm = confusion_matrix(y_test, y_pred)\n",
    "#print(cm)\n",
    "#Applying K-Fold cross validation\n",
    "from sklearn.model_selection import cross_val_score\n",
    "accuracies = cross_val_score(estimator = classifier, X = X_train, y = y_train, cv = 10)\n",
    "\n",
    "#print('accuracies mean =' , accuracies.mean())\n",
    "#print('accuracies std =' , accuracies.std())"
   ]
  },
  {
   "cell_type": "code",
   "execution_count": 4,
   "metadata": {},
   "outputs": [],
   "source": [
    "X_predict = pd.read_csv('test.csv', sep = '|')\n",
    "X_predict = X_predict.drop(['Name', 'md5', 'legitimate'], axis = 1).values\n",
    "#print(X_predict)\n"
   ]
  },
  {
   "cell_type": "code",
   "execution_count": 6,
   "metadata": {},
   "outputs": [],
   "source": [
    "\n",
    "X_predict = sc.fit_transform(X_predict)\n",
    "y_Predict = classifier.predict(X_predict)\n",
    "#print (y_Predict)"
   ]
  },
  {
   "cell_type": "code",
   "execution_count": null,
   "metadata": {},
   "outputs": [],
   "source": []
  }
 ],
 "metadata": {
  "kernelspec": {
   "display_name": "Python 3",
   "language": "python",
   "name": "python3"
  },
  "language_info": {
   "codemirror_mode": {
    "name": "ipython",
    "version": 3
   },
   "file_extension": ".py",
   "mimetype": "text/x-python",
   "name": "python",
   "nbconvert_exporter": "python",
   "pygments_lexer": "ipython3",
   "version": "3.7.3"
  }
 },
 "nbformat": 4,
 "nbformat_minor": 5
}
