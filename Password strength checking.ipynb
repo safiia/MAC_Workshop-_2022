{
 "cells": [
  {
   "cell_type": "markdown",
   "metadata": {},
   "source": [
    "***Password strength checking***\n",
    "\n",
    "- *This exercise is depend on machine learning rather than rules.*  \n",
    "\n",
    "- We have some passwords that are pre-classified using strength algorithms. \n",
    "\n",
    "- 0 for weak, 1 for medium and 2 for strong\n",
    "\n",
    "lamborghin1,1  \n",
    "AVYq1lDE4MgAZfNt,2  \n",
    "u6c8vhow,1  \n",
    "v1118714,1  \n",
    "universe2908,1  \n",
    "as326159,1  \n",
    "asv5o9yu,1  \n",
    "intel1,0  \n",
    "612035180tok,1  \n",
    "jytifok873,1  \n",
    "WUt9IZzE0OQ7PkNE,2  \n",
    "lsdlsd1,0"
   ]
  },
  {
   "cell_type": "code",
   "execution_count": 1,
   "metadata": {},
   "outputs": [],
   "source": [
    "#!pip install numpy\n",
    "#!pip install -U scikit-learn scipy matplotlib\n",
    "#!pip install --upgrade pip"
   ]
  },
  {
   "cell_type": "code",
   "execution_count": 2,
   "metadata": {},
   "outputs": [],
   "source": [
    "#!pip install wheel\n",
    "#!pip install pandas"
   ]
  },
  {
   "cell_type": "code",
   "execution_count": 51,
   "metadata": {},
   "outputs": [],
   "source": [
    "#Preprocessing\n",
    "# Tf-idf scores: TF-IDF (term frequency-inverse document frequency) is a statistical measure that evaluates how relevant a word is to a document in a collection of documents.\n",
    "# it is describing how many times a word appears in a document, and the inverse document frequency of the word across a set of documents.\n",
    "#https://monkeylearn.com/blog/what-is-tf-idf/#:~:text=TF%2DIDF%20(term%20frequency%2D,across%20a%20set%20of%20documents. \n",
    "#using each character as a token\n",
    "\n",
    "import pandas as pd\n",
    "import numpy as np\n",
    "import random\n",
    "from sklearn.model_selection import train_test_split \n",
    "from sklearn.feature_extraction.text import TfidfVectorizer\n",
    "\n",
    "\n",
    "def getTokens(inputString):\n",
    "    tokens = []\n",
    "    for i in inputString:\n",
    "        tokens.append(i)\n",
    "  #  print(tokens)    \n",
    "    return tokens"
   ]
  },
  {
   "cell_type": "code",
   "execution_count": 52,
   "metadata": {},
   "outputs": [
    {
     "data": {
      "text/plain": [
       "['u', 'i', 'o']"
      ]
     },
     "execution_count": 52,
     "metadata": {},
     "output_type": "execute_result"
    }
   ],
   "source": [
    "getTokens('uio')"
   ]
  },
  {
   "cell_type": "code",
   "execution_count": 53,
   "metadata": {},
   "outputs": [],
   "source": [
    "#Loading data.\n",
    "filepath = 'data.csv'\n",
    "data = pd.read_csv(filepath ,on_bad_lines='skip')\n",
    "\n",
    "data = pd.DataFrame(data)\n",
    "passwords = np.array(data)\n",
    "#print(passwords)"
   ]
  },
  {
   "cell_type": "code",
   "execution_count": 54,
   "metadata": {},
   "outputs": [],
   "source": [
    "#Lets shuffle the data and get our y and X vectors.\n",
    "random.shuffle(passwords)\n",
    "y = [d[1] for d in passwords]\n",
    "#print(y)\n",
    "allpasswords= [d[0] for d in passwords]\n",
    "#print(allpasswords)\n"
   ]
  },
  {
   "cell_type": "code",
   "execution_count": 55,
   "metadata": {},
   "outputs": [],
   "source": [
    "#apply the Tfidvectorizer on our corpus of passwords and split the data.\n",
    "#TfidfVectorizer - Transforms text to feature vectors that can be used as input to estimator\n",
    "\n",
    "vectorizer = TfidfVectorizer(tokenizer=getTokens)\n",
    "X = vectorizer.fit_transform(allpasswords)\n",
    "X_train, X_test, y_train, y_test = train_test_split(X, y, test_size=0.25, random_state=42)"
   ]
  },
  {
   "cell_type": "code",
   "execution_count": 57,
   "metadata": {
    "scrolled": true
   },
   "outputs": [
    {
     "name": "stdout",
     "output_type": "stream",
     "text": [
      "0.8200943790693507\n"
     ]
    }
   ],
   "source": [
    "#used logistic regression with multi class classification.\n",
    "from sklearn.linear_model import LogisticRegression\n",
    "\n",
    "lgs = LogisticRegression(penalty='l2', max_iter=900)\n",
    "lgs.fit(X_train, y_train)\n",
    "print(lgs.score(X_test, y_test))"
   ]
  },
  {
   "cell_type": "code",
   "execution_count": 60,
   "metadata": {},
   "outputs": [
    {
     "name": "stdout",
     "output_type": "stream",
     "text": [
      "[2 0 0 0 2]\n"
     ]
    }
   ],
   "source": [
    "X_predict = ['WUt9IZzE0OQ7PkNE','kuiqwasdi','g','uiquiuiiuiuiuiuiuiui','mynameis123faizan#']\n",
    "X_predict = vectorizer.transform(X_predict)\n",
    "y_Predict = lgs.predict(X_predict)\n",
    "print (y_Predict)"
   ]
  },
  {
   "cell_type": "code",
   "execution_count": 24,
   "metadata": {},
   "outputs": [],
   "source": [
    "#http://web.archive.org/web/20180613034337/https://github.com/faizann24/Machine-Learning-based-Password-Strength-Classification"
   ]
  }
 ],
 "metadata": {
  "kernelspec": {
   "display_name": "Python 3",
   "language": "python",
   "name": "python3"
  },
  "language_info": {
   "codemirror_mode": {
    "name": "ipython",
    "version": 3
   },
   "file_extension": ".py",
   "mimetype": "text/x-python",
   "name": "python",
   "nbconvert_exporter": "python",
   "pygments_lexer": "ipython3",
   "version": "3.7.3"
  }
 },
 "nbformat": 4,
 "nbformat_minor": 5
}
